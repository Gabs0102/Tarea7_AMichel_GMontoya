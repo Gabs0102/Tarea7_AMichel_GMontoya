{
 "cells": [
  {
   "cell_type": "markdown",
   "metadata": {},
   "source": [
    "<img style=\"float: left; margin: 30px 15px 15px 15px;\" src=\"https://pngimage.net/wp-content/uploads/2018/06/logo-iteso-png-5.png\" width=\"300\" height=\"500\" /> \n",
    "    \n",
    "    \n",
    "### <font color='navy'> Simulación de procesos financieros. \n",
    "\n",
    "**Nombres:** Alejandro Michel Marrón / Gabriela Ivonne Montoya Ortiz\n",
    "\n",
    "**Fecha:** 22 de octubre del 2020.\n",
    "\n",
    "**Expediente** : 719889 / 715478\n",
    "**Profesor:** Oscar David Jaramillo Zuluaga.\n",
    "\n",
    "# Tarea 7: Clases 14 y 15"
   ]
  },
  {
   "cell_type": "markdown",
   "metadata": {},
   "source": [
    "# Tarea Clase 14\n",
    "\n",
    "Aproxime el valor de la siguiente integral usando el método monte carlo crudo y método de reducción de varianza de muestreo estratíficado\n",
    "\n",
    "$$I=\\int_{0}^{1}x^2\\text{d}x=\\left.\\frac{x^3}{3}\\right|_{x=0}^{x=1}=\\frac{1}{3}\\approx 0.33333$$\n",
    "\n",
    "Pasos\n",
    "1. Cree una función que realice el método de muestreo estratíficado, recibiendo como único parámetro de entrada la cantidad de estratos y retornando las variables estratíficadas correspondientes.\n",
    "2. Reporte los resultados de la aproximación de la integral usando montecarlo crudo y muestreo estratíficado, en un Dataframe con la información mostrada en la siguiente imagen:\n"
   ]
  },
  {
   "cell_type": "code",
   "execution_count": 3,
   "metadata": {},
   "outputs": [
    {
     "data": {
      "text/html": [
       "<img src=\"https://i.imgur.com/x26ticp.png\"/>"
      ],
      "text/plain": [
       "<IPython.core.display.Image object>"
      ]
     },
     "execution_count": 3,
     "metadata": {},
     "output_type": "execute_result"
    }
   ],
   "source": [
    "from IPython.display import Image\n",
    "from IPython.core.display import HTML \n",
    "Image(url= \"https://i.imgur.com/x26ticp.png\")"
   ]
  },
  {
   "cell_type": "code",
   "execution_count": 6,
   "metadata": {},
   "outputs": [],
   "source": [
    "# Solución Alejandro Michel\n",
    "\n",
    "\n",
    "\n",
    "\n",
    "\n"
   ]
  },
  {
   "cell_type": "code",
   "execution_count": 1,
   "metadata": {},
   "outputs": [
    {
     "ename": "SyntaxError",
     "evalue": "invalid syntax (<ipython-input-1-9d1c0c122db9>, line 2)",
     "output_type": "error",
     "traceback": [
      "\u001b[1;36m  File \u001b[1;32m\"<ipython-input-1-9d1c0c122db9>\"\u001b[1;36m, line \u001b[1;32m2\u001b[0m\n\u001b[1;33m    .\u001b[0m\n\u001b[1;37m    ^\u001b[0m\n\u001b[1;31mSyntaxError\u001b[0m\u001b[1;31m:\u001b[0m invalid syntax\n"
     ]
    }
   ],
   "source": [
    "# Código de solución \n",
    ".\n",
    ".\n",
    ".\n",
    ".\n"
   ]
  },
  {
   "cell_type": "code",
   "execution_count": 34,
   "metadata": {},
   "outputs": [
    {
     "data": {
      "text/html": [
       "<div>\n",
       "<style scoped>\n",
       "    .dataframe tbody tr th:only-of-type {\n",
       "        vertical-align: middle;\n",
       "    }\n",
       "\n",
       "    .dataframe tbody tr th {\n",
       "        vertical-align: top;\n",
       "    }\n",
       "\n",
       "    .dataframe thead th {\n",
       "        text-align: right;\n",
       "    }\n",
       "</style>\n",
       "<table border=\"1\" class=\"dataframe\">\n",
       "  <thead>\n",
       "    <tr style=\"text-align: right;\">\n",
       "      <th></th>\n",
       "      <th>Montecarlo Crudo</th>\n",
       "      <th>Error_relativo</th>\n",
       "      <th>Muestreo estratificado</th>\n",
       "      <th>Error_relativo2</th>\n",
       "    </tr>\n",
       "    <tr>\n",
       "      <th>Cantidad_terminos</th>\n",
       "      <th></th>\n",
       "      <th></th>\n",
       "      <th></th>\n",
       "      <th></th>\n",
       "    </tr>\n",
       "  </thead>\n",
       "  <tbody>\n",
       "    <tr>\n",
       "      <th>10</th>\n",
       "      <td>0.381175</td>\n",
       "      <td>14.3525</td>\n",
       "      <td>0.345988</td>\n",
       "      <td>3.79641</td>\n",
       "    </tr>\n",
       "    <tr>\n",
       "      <th>100</th>\n",
       "      <td>0.331936</td>\n",
       "      <td>0.419281</td>\n",
       "      <td>0.333583</td>\n",
       "      <td>0.07477</td>\n",
       "    </tr>\n",
       "    <tr>\n",
       "      <th>1000</th>\n",
       "      <td>0.322913</td>\n",
       "      <td>3.12611</td>\n",
       "      <td>0.333354</td>\n",
       "      <td>0.0063</td>\n",
       "    </tr>\n",
       "    <tr>\n",
       "      <th>10000</th>\n",
       "      <td>0.334533</td>\n",
       "      <td>0.359751</td>\n",
       "      <td>0.333333</td>\n",
       "      <td>8.77072e-05</td>\n",
       "    </tr>\n",
       "    <tr>\n",
       "      <th>100000</th>\n",
       "      <td>0.333317</td>\n",
       "      <td>0.00481597</td>\n",
       "      <td>0.333333</td>\n",
       "      <td>1.15887e-06</td>\n",
       "    </tr>\n",
       "    <tr>\n",
       "      <th>1000000</th>\n",
       "      <td>0.333718</td>\n",
       "      <td>0.115482</td>\n",
       "      <td>0.333333</td>\n",
       "      <td>1.77028e-07</td>\n",
       "    </tr>\n",
       "    <tr>\n",
       "      <th>10000000</th>\n",
       "      <td>0.333291</td>\n",
       "      <td>0.0125838</td>\n",
       "      <td>0.333333</td>\n",
       "      <td>6.4574e-09</td>\n",
       "    </tr>\n",
       "  </tbody>\n",
       "</table>\n",
       "</div>"
      ],
      "text/plain": [
       "                  Montecarlo Crudo Error_relativo Muestreo estratificado  \\\n",
       "Cantidad_terminos                                                          \n",
       "10                        0.381175        14.3525               0.345988   \n",
       "100                       0.331936       0.419281               0.333583   \n",
       "1000                      0.322913        3.12611               0.333354   \n",
       "10000                     0.334533       0.359751               0.333333   \n",
       "100000                    0.333317     0.00481597               0.333333   \n",
       "1000000                   0.333718       0.115482               0.333333   \n",
       "10000000                  0.333291      0.0125838               0.333333   \n",
       "\n",
       "                  Error_relativo2  \n",
       "Cantidad_terminos                  \n",
       "10                        3.79641  \n",
       "100                       0.07477  \n",
       "1000                       0.0063  \n",
       "10000                 8.77072e-05  \n",
       "100000                1.15887e-06  \n",
       "1000000               1.77028e-07  \n",
       "10000000               6.4574e-09  "
      ]
     },
     "execution_count": 34,
     "metadata": {},
     "output_type": "execute_result"
    }
   ],
   "source": [
    "import numpy as np \n",
    "import matplotlib.pyplot as ptl \n",
    "import pandas as pd\n",
    "from functools import reduce\n",
    "import time\n",
    "import scipy.stats as st\n",
    "\n",
    "def int_montecarlo(f:'Función a integrar',\n",
    "                  a: 'Límite inferior de la integral',\n",
    "                  b: 'Límite superio de la integral',\n",
    "                  U: 'Mnuestra de números U~[a,b]'):\n",
    "    return (b-a)/len(U)*np.sum(f(U))\n",
    "\n",
    "\n",
    "def estratos(a,b,N):\n",
    "    U2 = np.random.uniform(a,b,N)\n",
    "    i = np.arange(0,N)\n",
    "    v = (U2+i)/N\n",
    "    return v\n",
    "\n",
    "I = 1/3\n",
    "\n",
    "a = 0\n",
    "b=1\n",
    "N = np.logspace(1,7,7,dtype = int)\n",
    "\n",
    "df = pd.DataFrame(index=N, columns=['Montecarlo Crudo','Error_relativo','Muestreo estratificado', 'Error_relativo2'])\n",
    "df.index.name=\"Cantidad_terminos\"\n",
    "\n",
    "ui = list(map(lambda N:np.random.uniform(a,b,N),N))\n",
    "u_est = list(map(lambda N: estratos(a,b,N),N))\n",
    "I_m = list(map(lambda Y:int_montecarlo(lambda x:x**2,a,b,Y),ui))\n",
    "I_est = list(map(lambda Y:int_montecarlo(lambda x:x**2,a,b,Y),u_est))\n",
    "\n",
    "df.loc[N,\"Montecarlo Crudo\"]=I_m\n",
    "df.loc[N,\"Error_relativo\"]=np.abs(df.loc[N,\"Montecarlo Crudo\"]-I)*100/I\n",
    "df.loc[N,\"Muestreo estratificado\"]=I_est\n",
    "df.loc[N,\"Error_relativo2\"]=np.abs(df.loc[N,\"Muestreo estratificado\"]-I)*100/I\n",
    "df\n"
   ]
  },
  {
   "cell_type": "markdown",
   "metadata": {},
   "source": [
    "#  Tarea Clase 15\n",
    "\n"
   ]
  },
  {
   "cell_type": "code",
   "execution_count": 4,
   "metadata": {},
   "outputs": [
    {
     "data": {
      "text/html": [
       "<img src=\"https://i.imgur.com/sQa0ojR.png\"/>"
      ],
      "text/plain": [
       "<IPython.core.display.Image object>"
      ]
     },
     "execution_count": 4,
     "metadata": {},
     "output_type": "execute_result"
    }
   ],
   "source": [
    "Image(url= \"https://i.imgur.com/sQa0ojR.png\")"
   ]
  },
  {
   "cell_type": "markdown",
   "metadata": {},
   "source": [
    "Además use el método de estratificación donde se divide en B estratos, visto la clase pasada y compare el resultado con los métodos anteriores cuando se toman $2,4,6,10$ estratos respectivamente, concluya."
   ]
  },
  {
   "cell_type": "code",
   "execution_count": 7,
   "metadata": {},
   "outputs": [],
   "source": [
    "# Solución Alejandro Michel\n",
    "\n",
    "\n",
    "\n",
    "\n",
    "\n"
   ]
  },
  {
   "cell_type": "code",
   "execution_count": 1,
   "metadata": {},
   "outputs": [
    {
     "ename": "SyntaxError",
     "evalue": "invalid syntax (<ipython-input-1-9d1c0c122db9>, line 2)",
     "output_type": "error",
     "traceback": [
      "\u001b[1;36m  File \u001b[1;32m\"<ipython-input-1-9d1c0c122db9>\"\u001b[1;36m, line \u001b[1;32m2\u001b[0m\n\u001b[1;33m    .\u001b[0m\n\u001b[1;37m    ^\u001b[0m\n\u001b[1;31mSyntaxError\u001b[0m\u001b[1;31m:\u001b[0m invalid syntax\n"
     ]
    }
   ],
   "source": [
    "# Código de solución \n",
    ".\n",
    ".\n",
    ".\n",
    ".\n"
   ]
  },
  {
   "cell_type": "code",
   "execution_count": 16,
   "metadata": {},
   "outputs": [
    {
     "data": {
      "text/plain": [
       "-0.06783350231646393"
      ]
     },
     "execution_count": 16,
     "metadata": {},
     "output_type": "execute_result"
    }
   ],
   "source": [
    "# Gaby \n",
    "\n",
    "f = lambda x: (3/2) * x ** 2 if x>=-1 and x<= 1 else 0 \n",
    "xi = lambda u: (2*(u-0.5))**(1/3) if u > 0.5 else -(2*(0.5-u))**(1/3)\n",
    "\n",
    "#a) \n",
    "np.random.seed(100)\n",
    "N = 10\n",
    "a = np.random.uniform(0,1,N)\n",
    "m = np.array(list(map(xi,a)))\n",
    "m.mean()"
   ]
  },
  {
   "cell_type": "code",
   "execution_count": 24,
   "metadata": {},
   "outputs": [
    {
     "name": "stdout",
     "output_type": "stream",
     "text": [
      "0.3496225696692105\n"
     ]
    }
   ],
   "source": [
    "#b) \n",
    "n1 = 3\n",
    "n2 = 3\n",
    "n3 = 4\n",
    "suma = n1 + n2 + n3\n",
    "r1 = np.random.uniform(0,.6,n1)\n",
    "r2 = np.random.uniform(.6,.9,n2)\n",
    "r3 = np.random.uniform(.9,1,n3)\n",
    "r = [r1,r2,r3]\n",
    "\n",
    "w1 = n1/suma/.6\n",
    "w2 = n2/suma/.3\n",
    "w3 = n3/suma/.1\n",
    "w = [w1,w2,w3]\n",
    "\n",
    "m_2 = list(map(lambda x: np.array(list(map(xi,x))),r))\n",
    "est = list(map(lambda x, wi:x/wi,m_2, w))\n",
    "est_2 = np.concatenate(est)\n",
    "media = np.mean(est_2)\n",
    "print(media)"
   ]
  },
  {
   "cell_type": "code",
   "execution_count": 25,
   "metadata": {},
   "outputs": [
    {
     "data": {
      "text/plain": [
       "0.0"
      ]
     },
     "execution_count": 25,
     "metadata": {},
     "output_type": "execute_result"
    }
   ],
   "source": [
    "#c)\n",
    "\n",
    "u1 = np.random.rand(5)\n",
    "u2 = 1-u1\n",
    "u = [u1,u2]\n",
    "\n",
    "m_3 = list(map(lambda x: np.array(list(map(xi,x))),u))\n",
    "np.mean(m_3)"
   ]
  },
  {
   "cell_type": "code",
   "execution_count": 30,
   "metadata": {},
   "outputs": [
    {
     "name": "stdout",
     "output_type": "stream",
     "text": [
      "[-0.3245404325584236, 0.061595546488241226, 0.011706901206894438, -0.015649566590989695]\n"
     ]
    }
   ],
   "source": [
    "def estratos(a,b,N):\n",
    "    u3 = np.random.uniform(a,b,N)\n",
    "    i = np.arange(0,N)\n",
    "    v = (u3+i)/N\n",
    "    return v\n",
    "\n",
    "B = [2,4,6,10]\n",
    "\n",
    "a = np.asarray(list(map(lambda x: estratos(0,1,x), B)))\n",
    "m_4 =np.asarray (list(map(lambda x: np.asarray(list(map(xi,x))),a)))\n",
    "\n",
    "media_2 = [np.mean(m_4[x]) for x in range(4)]\n",
    "print(media_2)"
   ]
  }
 ],
 "metadata": {
  "kernelspec": {
   "display_name": "Python 3",
   "language": "python",
   "name": "python3"
  },
  "language_info": {
   "codemirror_mode": {
    "name": "ipython",
    "version": 3
   },
   "file_extension": ".py",
   "mimetype": "text/x-python",
   "name": "python",
   "nbconvert_exporter": "python",
   "pygments_lexer": "ipython3",
   "version": "3.8.3"
  }
 },
 "nbformat": 4,
 "nbformat_minor": 2
}
